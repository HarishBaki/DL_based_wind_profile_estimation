{
 "cells": [
  {
   "cell_type": "markdown",
   "id": "71fea0df",
   "metadata": {},
   "source": [
    "- Experimented with Chebyshev coefficients computed with wind profiles up to 500 m and 300 m.\n",
    "- In both experiments, the coefficients c2, c3, and c4 are not up to the epectations. \n",
    "- Still, they are not fully capturing extremes, and the Q-Q plots are largely devating. "
   ]
  },
  {
   "cell_type": "markdown",
   "id": "81327b4d",
   "metadata": {},
   "source": [
    "- Next target is to categorize the wind regimes based on SOM clustering. \n",
    "- Train individual ML models for each class\n",
    "- Train one model to actually identiy the class based on just coefficients. \n",
    "- Finally, during inference, combine the classification model with class models. "
   ]
  },
  {
   "cell_type": "markdown",
   "id": "6dba447b",
   "metadata": {},
   "source": []
  }
 ],
 "metadata": {
  "language_info": {
   "name": "python"
  }
 },
 "nbformat": 4,
 "nbformat_minor": 5
}
